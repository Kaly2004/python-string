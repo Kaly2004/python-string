{
  "nbformat": 4,
  "nbformat_minor": 0,
  "metadata": {
    "colab": {
      "provenance": [],
      "authorship_tag": "ABX9TyOvG7s+E9KBuveKKB/Jph8E",
      "include_colab_link": true
    },
    "kernelspec": {
      "name": "python3",
      "display_name": "Python 3"
    },
    "language_info": {
      "name": "python"
    }
  },
  "cells": [
    {
      "cell_type": "markdown",
      "metadata": {
        "id": "view-in-github",
        "colab_type": "text"
      },
      "source": [
        "<a href=\"https://colab.research.google.com/github/Kaly2004/python-string/blob/main/python_strings.ipynb\" target=\"_parent\"><img src=\"https://colab.research.google.com/assets/colab-badge.svg\" alt=\"Open In Colab\"/></a>"
      ]
    },
    {
      "cell_type": "code",
      "execution_count": null,
      "metadata": {
        "id": "yJCDvlPzAjaJ"
      },
      "outputs": [],
      "source": []
    },
    {
      "cell_type": "markdown",
      "source": [
        "string"
      ],
      "metadata": {
        "id": "1zFDzCMUAmdb"
      }
    },
    {
      "cell_type": "code",
      "source": [
        "str1=' hello abhi '\n",
        "str2=' im generative ai '\n",
        "c=str1+str2\n",
        "print(c)\n",
        "print(str1*3)\n",
        "print(str2*2)"
      ],
      "metadata": {
        "colab": {
          "base_uri": "https://localhost:8080/"
        },
        "id": "_bIuNjZqAoEC",
        "outputId": "aae96f67-f302-443f-c92b-da412e4bf422"
      },
      "execution_count": null,
      "outputs": [
        {
          "output_type": "stream",
          "name": "stdout",
          "text": [
            " hello abhi  im generative ai \n",
            " hello abhi  hello abhi  hello abhi \n",
            " im generative ai  im generative ai \n"
          ]
        }
      ]
    },
    {
      "cell_type": "code",
      "source": [
        "s=\"abigailkalyani\"\n",
        "print(s)\n",
        "print(s[0])\n",
        "print(s[7])\n",
        "print(s[-1])\n",
        "print(s[-3])\n",
        "print(s[-7])\n",
        "print(s[2:7])\n",
        "print(s[6:11])\n",
        "print(s[3:])\n",
        "print(s[:8])\n",
        "print(s[:10])\n",
        "print(s[6:])\n",
        "print(s[-5:-2])\n",
        "print(s[-4:-2])\n",
        "print(s[-10:-9])\n",
        "print(s[2],s[4],s[6])\n",
        "print(s[::-1])\n",
        "print(s[-4:-1])\n"
      ],
      "metadata": {
        "colab": {
          "base_uri": "https://localhost:8080/"
        },
        "id": "LvHC4SHTBei8",
        "outputId": "909e587c-45d8-4a3e-fa7b-df5089d9b767"
      },
      "execution_count": null,
      "outputs": [
        {
          "output_type": "stream",
          "name": "stdout",
          "text": [
            "abigailkalyani\n",
            "a\n",
            "k\n",
            "i\n",
            "a\n",
            "k\n",
            "igail\n",
            "lkaly\n",
            "gailkalyani\n",
            "abigailk\n",
            "abigailkal\n",
            "lkalyani\n",
            "lya\n",
            "ya\n",
            "a\n",
            "i a l\n",
            "inaylakliagiba\n",
            "yan\n"
          ]
        }
      ]
    },
    {
      "cell_type": "code",
      "source": [
        "str=\"abhi kalyani\\n\"\n",
        "print(str*4)"
      ],
      "metadata": {
        "colab": {
          "base_uri": "https://localhost:8080/"
        },
        "id": "kGP5h3HxFn8S",
        "outputId": "a9d65675-5163-461d-d174-fce93c1ecd54"
      },
      "execution_count": null,
      "outputs": [
        {
          "output_type": "stream",
          "name": "stdout",
          "text": [
            "abhi kalyani\n",
            "abhi kalyani\n",
            "abhi kalyani\n",
            "abhi kalyani\n",
            "\n"
          ]
        }
      ]
    },
    {
      "cell_type": "code",
      "source": [
        "print(2+3-1)\n",
        "print(1+1**3-1)\n",
        "print(1+1**(3-1))\n",
        "print(2+3/2)\n",
        "print(3-5**(6-4)/2)\n",
        "print(2**4)"
      ],
      "metadata": {
        "colab": {
          "base_uri": "https://localhost:8080/"
        },
        "id": "ZSzAisd-JbcE",
        "outputId": "30542d6b-2301-4d50-ac14-92d1b69f42bd"
      },
      "execution_count": null,
      "outputs": [
        {
          "output_type": "stream",
          "name": "stdout",
          "text": [
            "4\n",
            "1\n",
            "2\n",
            "3.5\n",
            "-9.5\n",
            "16\n"
          ]
        }
      ]
    }
  ]
}